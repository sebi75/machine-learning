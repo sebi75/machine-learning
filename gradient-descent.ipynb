{
 "cells": [
  {
   "cell_type": "markdown",
   "metadata": {},
   "source": [
    "# Gradient descent Notebook"
   ]
  },
  {
   "cell_type": "code",
   "execution_count": 1,
   "metadata": {},
   "outputs": [],
   "source": [
    "import numpy as np"
   ]
  },
  {
   "cell_type": "markdown",
   "metadata": {},
   "source": [
    "Add method to calculate the cost function for a given set of parameters."
   ]
  },
  {
   "cell_type": "code",
   "execution_count": 3,
   "metadata": {},
   "outputs": [],
   "source": [
    "def compute_cost(x_train, y_train, w: float, b: float):\n",
    "    m = x_train.shape[0]\n",
    "    cost = 0\n",
    "    for i in range(m):\n",
    "        f_wb = w * x_train[i] + b\n",
    "        sq_err = (f_wb - y_train[i]) ** 2\n",
    "        cost += sq_err\n",
    "    return (1/(2*m)) * cost"
   ]
  },
  {
   "cell_type": "markdown",
   "metadata": {},
   "source": [
    "Add method to calculate the derivatives with respect to w and b for a given set of parameters. ( constant x_train and y_train and varying w and b by iterations )"
   ]
  },
  {
   "cell_type": "code",
   "execution_count": 4,
   "metadata": {},
   "outputs": [],
   "source": [
    "def compute_gradient(x_train, y_train, w, b):\n",
    "    m = x_train.shape[0]\n",
    "    dj_w = 0\n",
    "    dj_b = 0\n",
    "    for i in range(m):\n",
    "        f_wb = w * x_train[i] + b\n",
    "        dj_w += (f_wb - y_train[i]) * x_train[i]\n",
    "        dj_b += (f_wb - y_train[i])\n",
    "    return (1/m) * dj_w, (1/m) * dj_b"
   ]
  },
  {
   "cell_type": "markdown",
   "metadata": {},
   "source": [
    "Use the utils we created to implement the gradient descent algorithm. This is an algorithm for finding the local minimum of a function by taking iterative steps."
   ]
  },
  {
   "cell_type": "code",
   "execution_count": 5,
   "metadata": {},
   "outputs": [],
   "source": [
    "def gradient_descent(x_train, y_train, w_init, b_init, alpha, cost_function, num_iterations = 10000):\n",
    "    w = w_init\n",
    "    b = b_init\n",
    "\n",
    "    J_history = []\n",
    "\n",
    "    for i in range(num_iterations):\n",
    "        dj_w, dj_b = compute_gradient(x_train, y_train, w, b)\n",
    "        w = w - alpha * dj_w\n",
    "        b = b - alpha * dj_b\n",
    "\n",
    "        if i % 100 == 0:\n",
    "            J_history.append(cost_function(x_train, y_train, w, b))\n",
    "        \n",
    "    return w, b, J_history"
   ]
  },
  {
   "cell_type": "markdown",
   "metadata": {},
   "source": [
    "By taking a dataset with a single feature and a target variable, we can train a linear model to fit the data. We can then use the resulted parameters w and b to predict the target variable for a new data point."
   ]
  }
 ],
 "metadata": {
  "kernelspec": {
   "display_name": "Python 3",
   "language": "python",
   "name": "python3"
  },
  "language_info": {
   "codemirror_mode": {
    "name": "ipython",
    "version": 3
   },
   "file_extension": ".py",
   "mimetype": "text/x-python",
   "name": "python",
   "nbconvert_exporter": "python",
   "pygments_lexer": "ipython3",
   "version": "3.9.6"
  }
 },
 "nbformat": 4,
 "nbformat_minor": 2
}
